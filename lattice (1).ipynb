{
 "cells": [
  {
   "cell_type": "code",
   "execution_count": 22,
   "metadata": {},
   "outputs": [
    {
     "name": "stdout",
     "output_type": "stream",
     "text": [
      "Full Formula (Ba1 C2)\n",
      "Reduced Formula: BaC2\n",
      "abc   :   3.916410   3.916410   3.916410\n",
      "angles:  83.847367  83.847367  83.847367\n",
      "Sites (3)\n",
      "  #  SP           a         b         c\n",
      "---  ----  --------  --------  --------\n",
      "  0  Ba    0         0         0\n",
      "  1  C     0.584843  0.584843  0.584843\n",
      "  2  C     0.415157  0.415157  0.415157\n",
      " \n",
      "trigonal\n",
      "rhombohedral\n",
      "-3m\n",
      "2.913948 -2.616711 0.000000\n",
      "2.913948 2.616711 0.000000\n",
      "0.564154 0.000000 3.875564\n",
      " \n",
      "1.078122 -1.200588 -0.156939\n",
      "1.078122 1.200588 -0.156939\n",
      "0.000000 0.000000 1.621231\n"
     ]
    }
   ],
   "source": [
    "    from pymatgen.ext.matproj import MPRester\n",
    "    from pymatgen.apps.borg.hive import VaspToComputedEntryDrone\n",
    "    from pymatgen.apps.borg.queen import BorgQueen\n",
    "    from pymatgen.entries.compatibility import MaterialsProjectCompatibility\n",
    "    from pymatgen.analysis.phase_diagram import PhaseDiagram, PDPlotter\n",
    "    from pymatgen.io.cif import CifParser\n",
    "    from pymatgen.io.cif import CifWriter\n",
    "    from pymatgen.symmetry.analyzer import SpacegroupAnalyzer\n",
    "    with MPRester(\"TlAVvoNCgksfit8e\") as m:\n",
    "        structure = m.get_structure_by_material_id(\"mp-1018141\")\n",
    "        w = CifWriter(structure)\n",
    "        w.write_file('mystructure.cif')\n",
    "        new_s=SpacegroupAnalyzer(structure).get_primitive_standard_structure()\n",
    "        print(new_s)\n",
    "        system=SpacegroupAnalyzer(new_s).get_crystal_system()\n",
    "        print(\" \")\n",
    "        print(system)\n",
    "        lattice=SpacegroupAnalyzer(new_s).get_lattice_type()\n",
    "        print(lattice)\n",
    "        group=SpacegroupAnalyzer(new_s).get_point_group_symbol()\n",
    "        print(group)\n",
    "        vector_direct=new_s.lattice\n",
    "        print(vector_direct)\n",
    "        print(\" \")\n",
    "        vector_reciprocal=vector_direct.reciprocal_lattice\n",
    "        print(vector_reciprocal)\n",
    "        "
   ]
  },
  {
   "cell_type": "code",
   "execution_count": null,
   "metadata": {},
   "outputs": [],
   "source": []
  },
  {
   "cell_type": "code",
   "execution_count": null,
   "metadata": {},
   "outputs": [],
   "source": []
  }
 ],
 "metadata": {
  "kernelspec": {
   "display_name": "Python 3",
   "language": "python",
   "name": "python3"
  },
  "language_info": {
   "codemirror_mode": {
    "name": "ipython",
    "version": 3
   },
   "file_extension": ".py",
   "mimetype": "text/x-python",
   "name": "python",
   "nbconvert_exporter": "python",
   "pygments_lexer": "ipython3",
   "version": "3.6.8"
  }
 },
 "nbformat": 4,
 "nbformat_minor": 2
}
